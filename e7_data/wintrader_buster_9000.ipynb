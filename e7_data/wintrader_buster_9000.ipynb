{
 "cells": [
  {
   "cell_type": "code",
   "execution_count": 79,
   "id": "61ea6e6e",
   "metadata": {},
   "outputs": [],
   "source": [
    "# IMPORTS AND COMMONLY USED FUNCTIONS\n",
    "# ==> always run first, change server to match the desired one\n",
    "\n",
    "import requests\n",
    "import json\n",
    "import pandas as pd\n",
    "import numpy as np\n",
    "import matplotlib.pyplot as plt\n",
    "\n",
    "\n",
    "# \"global\" | \"asia\" | \"jpn\" | \"kor\"\n",
    "server = \"global\"\n",
    "\n",
    "\n",
    "uid_df = pd.read_json('epic7_user_world_{}.json'.format(server))\n",
    "users = dict()\n",
    "for x in range(len(uid_df)):\n",
    "    u = dict(uid_df.iloc[x][\"users\"])\n",
    "    users[u[\"nick_no\"]] = u[\"nick_nm\"]\n",
    "\n",
    "users2 = dict()\n",
    "for x in range(len(uid_df)):\n",
    "    u = dict(uid_df.iloc[x][\"users\"])\n",
    "    users2[u[\"nick_nm\"]] = u[\"nick_no\"]\n",
    "    \n",
    "heroname_df = pd.read_json('heronames.json')\n",
    "heronames = dict()\n",
    "for x in range(len(heroname_df)):\n",
    "    heronames[heroname_df.iloc[x][\"code\"]] = heroname_df.iloc[x][\"name\"]\n",
    "    \n",
    "def getHeroName(code):\n",
    "    return heronames[code]\n",
    "def getUID(name):\n",
    "    return users2[name]\n",
    "def getUsername(uid):\n",
    "    return users[uid]"
   ]
  },
  {
   "cell_type": "code",
   "execution_count": 80,
   "id": "1c37e294",
   "metadata": {
    "scrolled": true
   },
   "outputs": [],
   "source": [
    "# LOOK FOR SUSPICIOUSLY SHORT GAMES\n",
    "# max_turns: the amount of turns or less the game is allowed to last\n",
    "\n",
    "def findShortGames(uid, max_turns=1):\n",
    "    url = \"https://epic7.gg.onstove.com/gameApi/getBattleList?nick_no={}&world_code=world_{}&lang=en&season_code=\".format(uid, server)\n",
    "    payload = {}\n",
    "    response = requests.post(url, json=payload)\n",
    "\n",
    "    filename = '{userId}.json'.format(userId=uid)\n",
    "    if response.status_code == 200:\n",
    "        json_data = response.json()\n",
    "        with open(filename, 'w') as file:\n",
    "            json.dump(json_data, file, indent=4)\n",
    "\n",
    "        battles = pd.read_json(filename)\n",
    "        battles = dict(battles.loc[\"battle_list\"])['result_body']\n",
    "        ffs = dict()\n",
    "        for x in range(len(battles)):\n",
    "            if battles[x][\"season_code\"] == \"pvp_rta_ss11\" and battles[x][\"turn\"] <= max_turns:\n",
    "                if battles[x][\"enemy_nick_no\"] in ffs:\n",
    "                    ffs[battles[x][\"enemy_nick_no\"]] = ffs[battles[x][\"enemy_nick_no\"]] + 1\n",
    "                else: \n",
    "                    ffs[battles[x][\"enemy_nick_no\"]] = 1\n",
    "        matches = dict()\n",
    "        wins = dict()\n",
    "        for x in range(len(battles)):\n",
    "            for y in ffs.keys():\n",
    "                if battles[x][\"season_code\"] == \"pvp_rta_ss11\" and battles[x][\"enemy_nick_no\"] == y:\n",
    "                    if battles[x][\"enemy_nick_no\"] in matches:\n",
    "                        matches[battles[x][\"enemy_nick_no\"]] = matches[battles[x][\"enemy_nick_no\"]] + 1\n",
    "                    else: \n",
    "                        wins[battles[x][\"enemy_nick_no\"]] = 0\n",
    "                        matches[battles[x][\"enemy_nick_no\"]] = 1\n",
    "\n",
    "                    if battles[x][\"iswin\"] == 1:\n",
    "                        wins[battles[x][\"enemy_nick_no\"]] = wins[battles[x][\"enemy_nick_no\"]] + 1\n",
    "        print(users[str(uid)]+\" - games ended before turn 2:\")\n",
    "        for y in ffs.keys():\n",
    "            print(\"{}: {}/{} ({}), winrate against: {}\".format(y, ffs[y], matches[y], str(100*ffs[y]/matches[y])+\"%\", str(100*wins[y]/matches[y])+\"%\"))\n",
    "    else:\n",
    "        print(f'Error: {response.status_code}')\n",
    "        print(response.text)"
   ]
  },
  {
   "cell_type": "code",
   "execution_count": 81,
   "id": "3469ccbc",
   "metadata": {},
   "outputs": [],
   "source": [
    "# LOOK FOR SUSPICIOUS PICKS\n",
    "# sus_log_p: the log probability limit for showing games\n",
    "# -30 seems to be a decently good value\n",
    "\n",
    "\n",
    "def findSuspiciousPicks(uid, sus_log_p=-30):\n",
    "    url = \"https://epic7.gg.onstove.com/gameApi/getBattleList?nick_no={}&world_code=world_{}&lang=en&season_code=\".format(uid, server)\n",
    "    payload = {}\n",
    "    response = requests.post(url, json=payload)\n",
    "\n",
    "\n",
    "    filename = '{userId}.json'.format(userId=uid)\n",
    "    if response.status_code == 200:\n",
    "        json_data = response.json()\n",
    "        with open(filename, 'w') as file:\n",
    "            json.dump(json_data, file, indent=4)\n",
    "\n",
    "        battles = pd.read_json(filename)\n",
    "        battles = dict(battles.loc[\"battle_list\"])['result_body']\n",
    "\n",
    "        enemies = dict()\n",
    "        heroes = dict()\n",
    "        total_picks = 0\n",
    "        total_battles = 0\n",
    "        for x in range(len(battles)):\n",
    "            if battles[x][\"season_code\"] == \"pvp_rta_ss11\":\n",
    "                total_battles = total_battles + 1\n",
    "                if battles[x][\"enemy_nick_no\"] in enemies:\n",
    "                    enemies[battles[x][\"enemy_nick_no\"]] = enemies[battles[x][\"enemy_nick_no\"]] + 1\n",
    "                else: \n",
    "                    enemies[battles[x][\"enemy_nick_no\"]] = 1    \n",
    "                h = battles[x][\"my_deck\"][\"hero_list\"]\n",
    "                for x2 in range(len(h)):\n",
    "                    total_picks = total_picks + len(h)\n",
    "                    if h[x2][\"hero_code\"] in heroes:\n",
    "                        heroes[h[x2][\"hero_code\"]] = heroes[h[x2][\"hero_code\"]] + 1\n",
    "                    else:\n",
    "                        heroes[h[x2][\"hero_code\"]] = 1\n",
    "\n",
    "        for hero in heroes.keys():\n",
    "            heroes[hero] = np.log(heroes[hero]) - np.log(total_picks)\n",
    "\n",
    "        battle_log_p = [1]*total_battles\n",
    "        x5 = 0\n",
    "        picks = [\"\"]*total_battles\n",
    "        for x in range(len(battles)):\n",
    "            if battles[x][\"season_code\"] == \"pvp_rta_ss11\":   \n",
    "                h = battles[x][\"my_deck\"][\"hero_list\"]\n",
    "                for x2 in range(len(h)):\n",
    "                    if x2 == 0:\n",
    "                        picks[x5] = picks[x5] + getHeroName(h[x2][\"hero_code\"])\n",
    "                    else:\n",
    "                        picks[x5] = picks[x5] + \", \" + getHeroName(h[x2][\"hero_code\"])\n",
    "                    if h[x2][\"hero_code\"] in heroes:\n",
    "                        battle_log_p[x5] = battle_log_p[x5] + heroes[h[x2][\"hero_code\"]]\n",
    "                x5 = x5 + 1\n",
    "\n",
    "        plt.hist([i for i in battle_log_p if i != 1], 30)\n",
    "        sus_games = []\n",
    "        for x3 in range(len(battle_log_p)):\n",
    "            if battle_log_p[x3] < sus_log_p:\n",
    "                sus_games.append(x3)\n",
    "\n",
    "        print(users[str(uid)]+\" - games with suspicious picks:\")\n",
    "        for x3 in range(len(sus_games)):\n",
    "            print(\"Game number: {}, log P: {}, picks: {}\".format(sus_games[x3], battle_log_p[sus_games[x3]], picks[sus_games[x3]]))\n",
    "    else:\n",
    "        print(f'Error: {response.status_code}')\n",
    "        print(response.text)"
   ]
  },
  {
   "cell_type": "code",
   "execution_count": 89,
   "id": "85a56e25",
   "metadata": {},
   "outputs": [
    {
     "name": "stdout",
     "output_type": "stream",
     "text": [
      "Caerliss - games ended before turn 2:\n",
      "biru速: 3/4 (75.0%), winrate against: 100.0%\n",
      "Lunale速: 7/7 (100.0%), winrate against: 100.0%\n"
     ]
    }
   ],
   "source": [
    "findShortGames(63471324)"
   ]
  },
  {
   "cell_type": "code",
   "execution_count": 90,
   "id": "1cc30ef3",
   "metadata": {},
   "outputs": [
    {
     "name": "stdout",
     "output_type": "stream",
     "text": [
      "Caerliss - games with suspicious picks:\n",
      "Game number: 32, log P: -30.184710000521882, picks: Seaside Bellona, Lua, Last Rider Krau, Archdemon's Shadow, Destina\n"
     ]
    },
    {
     "data": {
      "image/png": "[encoded data removed]",
      "text/plain": [
       "<Figure size 432x288 with 1 Axes>"
      ]
     },
     "metadata": {
      "needs_background": "light"
     },
     "output_type": "display_data"
    }
   ],
   "source": [
    "findSuspiciousPicks(63471324)"
   ]
  },
  {
   "cell_type": "code",
   "execution_count": 82,
   "id": "adbd6543",
   "metadata": {},
   "outputs": [],
   "source": [
    "# GET ALL GLOBAL PLAYER DATA\n",
    "\n",
    "def getAllGlobalData():\n",
    "    n = len(uid_df)\n",
    "    uids2 = [0]*n\n",
    "    n1 = 0\n",
    "    for x in range(n):\n",
    "        if int(dict(uid_df.iloc[x])[\"users\"][\"rank\"]) == 70:\n",
    "            n1 = n1 + 1\n",
    "            uids2[x] = int(dict(uid_df.iloc[x])[\"users\"][\"nick_no\"])\n",
    "\n",
    "    uids = [0]*n1\n",
    "    n2 = 0\n",
    "    for x in range(n):\n",
    "        if uids2[x] != 0:\n",
    "            uids[n2] = uids2[x]\n",
    "            n2 = n2 + 1\n",
    "\n",
    "    print(len(uids))\n",
    "\n",
    "    for x in range(n):\n",
    "        uid = uids[x]\n",
    "        url = \"https://epic7.gg.onstove.com/gameApi/getBattleList?nick_no={userId}&world_code=world_global&lang=en&season_code=\"\n",
    "        payload = {}\n",
    "        response = requests.post(url.format(userId=uid), json=payload)\n",
    "\n",
    "        if response.status_code == 200:\n",
    "            # Parse the JSON response\n",
    "            json_data = response.json()\n",
    "            filename = '{userId}.json'.format(userId=uid)\n",
    "            with open(filename, 'w') as file:\n",
    "                json.dump(json_data, file, indent=4)\n",
    "            print(x+\"/\"+n)\n",
    "        else:\n",
    "            print(f'Error: {response.status_code}')\n",
    "            print(response.text)"
   ]
  }
 ],
 "metadata": {
  "kernelspec": {
   "display_name": "Python 3 (ipykernel)",
   "language": "python",
   "name": "python3"
  },
  "language_info": {
   "codemirror_mode": {
    "name": "ipython",
    "version": 3
   },
   "file_extension": ".py",
   "mimetype": "text/x-python",
   "name": "python",
   "nbconvert_exporter": "python",
   "pygments_lexer": "ipython3",
   "version": "3.9.12"
  }
 },
 "nbformat": 4,
 "nbformat_minor": 5
}
