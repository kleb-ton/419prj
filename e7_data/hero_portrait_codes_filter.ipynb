{
 "cells": [
  {
   "cell_type": "code",
   "execution_count": 53,
   "metadata": {},
   "outputs": [],
   "source": [
    "import os\n",
    "import shutil\n",
    "import glob\n",
    "import re"
   ]
  },
  {
   "cell_type": "code",
   "execution_count": 54,
   "metadata": {},
   "outputs": [],
   "source": [
    "# folder path\n",
    "folder_path = './cachedimages'"
   ]
  },
  {
   "cell_type": "code",
   "execution_count": 55,
   "metadata": {},
   "outputs": [],
   "source": [
    "\n",
    "# Iterate through the files with c_something_s\n",
    "for path in glob.glob(\"cachedimages/c*_s.png\"):\n",
    "        \n",
    "    if os.path.isfile(path):\n",
    "        shutil.move(path, \"./e7_portraits\")"
   ]
  },
  {
   "cell_type": "code",
   "execution_count": 56,
   "metadata": {},
   "outputs": [],
   "source": [
    "# moved all portraits that didn't start with c_something_s but had Portrait\n",
    "for path in glob.glob(\"cachedimages/*Portrait.png\"):\n",
    "        \n",
    "    if os.path.isfile(path):\n",
    "        shutil.move(path, \"./e7_portraits\")"
   ]
  },
  {
   "cell_type": "code",
   "execution_count": 1,
   "metadata": {},
   "outputs": [],
   "source": [
    "import pandas as pd\n",
    "import json"
   ]
  },
  {
   "cell_type": "code",
   "execution_count": 2,
   "metadata": {},
   "outputs": [],
   "source": [
    "herodata = pd.read_json(\"./herodata.json\")\n",
    "herocodes = dict(herodata.loc['code'])\n"
   ]
  },
  {
   "cell_type": "code",
   "execution_count": 3,
   "metadata": {},
   "outputs": [],
   "source": [
    "output_list = []\n",
    "\n",
    "for hero, code in herocodes.items():\n",
    "    output_list.append({\"code\": code, \"name\": hero})\n",
    "\n",
    "output_json = json.dumps(output_list, indent=4)\n",
    "\n",
    "file_name = \"herocodes.json\"\n",
    "\n",
    "# Write the JSON to the file\n",
    "with open(file_name, \"w\") as file:\n",
    "    file.write(output_json)"
   ]
  }
 ],
 "metadata": {
  "kernelspec": {
   "display_name": "Python 3",
   "language": "python",
   "name": "python3"
  },
  "language_info": {
   "codemirror_mode": {
    "name": "ipython",
    "version": 3
   },
   "file_extension": ".py",
   "mimetype": "text/x-python",
   "name": "python",
   "nbconvert_exporter": "python",
   "pygments_lexer": "ipython3",
   "version": "3.11.7"
  }
 },
 "nbformat": 4,
 "nbformat_minor": 2
}
