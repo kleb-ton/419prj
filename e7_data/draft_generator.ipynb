{
 "cells": [
  {
   "cell_type": "code",
   "execution_count": 117,
   "metadata": {},
   "outputs": [],
   "source": [
    "import pandas as pd\n",
    "import json\n",
    "import numpy as np"
   ]
  },
  {
   "cell_type": "code",
   "execution_count": null,
   "metadata": {},
   "outputs": [],
   "source": [
    "import os\n",
    "\n",
    "file_list = []\n",
    "\n",
    "folder_path = \"./rta_player_data\"\n",
    "files_in_folder = os.listdir(folder_path)\n",
    "\n",
    "# Filter out only files (excluding directories)\n",
    "files = [file for file in files_in_folder if os.path.isfile(os.path.join(folder_path, file))]\n",
    "\n",
    "for file in files:\n",
    "    file_list.append('./rta_player_data/' + file)\n"
   ]
  },
  {
   "cell_type": "code",
   "execution_count": 103,
   "metadata": {},
   "outputs": [
    {
     "data": {
      "text/plain": [
       "['./rta_player_data/104467101.json',\n",
       " './rta_player_data/124552294.json',\n",
       " './rta_player_data/133232375.json',\n",
       " './rta_player_data/134489859.json',\n",
       " './rta_player_data/139771474.json',\n",
       " './rta_player_data/155256756.json',\n",
       " './rta_player_data/159055138.json',\n",
       " './rta_player_data/159620508.json',\n",
       " './rta_player_data/163085629.json',\n",
       " './rta_player_data/170502668.json',\n",
       " './rta_player_data/171276418.json',\n",
       " './rta_player_data/177444551.json',\n",
       " './rta_player_data/188175150.json',\n",
       " './rta_player_data/191603279.json',\n",
       " './rta_player_data/191616064.json',\n",
       " './rta_player_data/206705999.json',\n",
       " './rta_player_data/60090739.json',\n",
       " './rta_player_data/60134130.json',\n",
       " './rta_player_data/60142509.json',\n",
       " './rta_player_data/60318328.json',\n",
       " './rta_player_data/61214698.json',\n",
       " './rta_player_data/63467428.json',\n",
       " './rta_player_data/63908598.json',\n",
       " './rta_player_data/66879752.json',\n",
       " './rta_player_data/68183898.json',\n",
       " './rta_player_data/70726715.json',\n",
       " './rta_player_data/79680386.json',\n",
       " './rta_player_data/79806553.json',\n",
       " './rta_player_data/85251058.json',\n",
       " './rta_player_data/85743517.json']"
      ]
     },
     "execution_count": 103,
     "metadata": {},
     "output_type": "execute_result"
    }
   ],
   "source": [
    "file_list"
   ]
  },
  {
   "cell_type": "code",
   "execution_count": 105,
   "metadata": {},
   "outputs": [],
   "source": [
    "def drafts(team_1, team_2, deck_1, deck_2, iswin):\n",
    "    \n",
    "    data = json.loads(team_1)\n",
    "    my_team_data = data[\"my_team\"]\n",
    "    df_team = pd.DataFrame(my_team_data)\n",
    "    \n",
    "    # df_team = df_team.drop(['artifact', 'respawn', 'mvp', 'kill_count', 'position', 'grade', 'awaken_grade', 'attribute_cd', 'level', 'job_cd'], axis=1)\n",
    "    \n",
    "    data2 = json.loads(team_2)\n",
    "    my_team_data_enemy = data2[\"my_team\"]\n",
    "    df_enemy_team = pd.DataFrame(my_team_data_enemy)\n",
    "    \n",
    "    if (iswin == 1):\n",
    "        df_team['is_win'] = iswin\n",
    "        df_enemy_team['is_win'] = 2\n",
    "    else:\n",
    "        df_team['is_win'] = iswin\n",
    "        df_enemy_team['is_win'] = 1\n",
    "        \n",
    "    my_hero_list = json.dumps(deck_1)\n",
    "    data_dict = json.loads(my_hero_list)\n",
    "    df_hero_list = pd.DataFrame(data_dict['hero_list'])\n",
    "    \n",
    "    enemy_hero_list = json.dumps(deck_2)\n",
    "    data_dict = json.loads(enemy_hero_list)\n",
    "    df_enemy_hero_list = pd.DataFrame(data_dict['hero_list'])\n",
    "    \n",
    "   \n",
    "    # df_win = pd.DataFrame(data_win)\n",
    "    \n",
    "    # takes both side drafts into one data entry \n",
    "    # result = pd.merge(df_team, df_hero_list, on=\"hero_code\")\n",
    "\n",
    "    \n",
    "    # result2 = pd.merge(df_enemy_team, df_enemy_hero_list, on=\"hero_code\")\n",
    "\n",
    "    draft1 = pd.concat([df_enemy_team, df_team], ignore_index=True,axis=0)\n",
    "    draft2 = pd.concat([df_enemy_hero_list, df_hero_list], ignore_index=True,axis=0)\n",
    "\n",
    "    draft = pd.concat([draft1, draft2], ignore_index=False,axis=1)\n",
    "    draft = draft.loc[:,~draft.columns.duplicated()]\n",
    "    \n",
    "    \n",
    "    return draft "
   ]
  },
  {
   "cell_type": "code",
   "execution_count": 91,
   "metadata": {},
   "outputs": [],
   "source": [
    "def filter_data(file_name):\n",
    "    battles = pd.read_json(file_name)\n",
    "    battles = dict(battles.loc[\"battle_list\"])['result_body']\n",
    "    battle_data = []\n",
    "\n",
    "    for x in range(len(battles)):\n",
    "        battle_data.append(battles[x]['teamBettleInfo'])\n",
    "        battle_data.append(battles[x]['teamBettleInfoenemy'])\n",
    "        battle_data.append(battles[x]['my_deck'])\n",
    "        battle_data.append(battles[x]['enemy_deck'])\n",
    "        battle_data.append(battles[x]['iswin'])\n",
    "    \n",
    "    # stores all generated drafts\n",
    "    drafts_list = []\n",
    "\n",
    "    # generate draft data \n",
    "    i = 0\n",
    "    while i < len(battles)*5:\n",
    "        string_data_team = '{' + battle_data[i] + '}'\n",
    "        string_data_enemy = '{' + battle_data[i+1] + '}'\n",
    "        string_data_my_deck = battle_data[i+2] \n",
    "        string_data_enemy_deck = battle_data[i+3]\n",
    "        string_data_win = battle_data[i+4]\n",
    "        \n",
    "        res = drafts(string_data_team, string_data_enemy , string_data_my_deck, string_data_enemy_deck, string_data_win)\n",
    "        drafts_list.append(res)\n",
    "        i += 5\n",
    "        \n",
    "    return drafts_list"
   ]
  },
  {
   "cell_type": "code",
   "execution_count": 112,
   "metadata": {},
   "outputs": [],
   "source": [
    "drafts_dataset = []\n",
    "for i in range(len(file_list)):\n",
    "    res = filter_data(file_list[i])\n",
    "    drafts_dataset.append(res)"
   ]
  },
  {
   "cell_type": "code",
   "execution_count": 121,
   "metadata": {},
   "outputs": [],
   "source": [
    "collapsed_arr = [item for sublist in drafts_dataset for item in sublist]"
   ]
  },
  {
   "cell_type": "code",
   "execution_count": 133,
   "metadata": {},
   "outputs": [
    {
     "data": {
      "text/plain": [
       "3000"
      ]
     },
     "execution_count": 133,
     "metadata": {},
     "output_type": "execute_result"
    }
   ],
   "source": [
    "len(collapsed_arr)"
   ]
  },
  {
   "cell_type": "code",
   "execution_count": 137,
   "metadata": {},
   "outputs": [],
   "source": [
    "concatenated_df = pd.concat(collapsed_arr, ignore_index=True)\n",
    "\n",
    "# Specify the file name\n",
    "csv_file = 'drafts_dataset.csv'\n",
    "\n",
    "# Write the concatenated DataFrame to a CSV file\n",
    "concatenated_df.to_csv(csv_file, index=True)\n",
    "\n"
   ]
  }
 ],
 "metadata": {
  "kernelspec": {
   "display_name": "Python 3",
   "language": "python",
   "name": "python3"
  },
  "language_info": {
   "codemirror_mode": {
    "name": "ipython",
    "version": 3
   },
   "file_extension": ".py",
   "mimetype": "text/x-python",
   "name": "python",
   "nbconvert_exporter": "python",
   "pygments_lexer": "ipython3",
   "version": "3.11.7"
  }
 },
 "nbformat": 4,
 "nbformat_minor": 2
}
