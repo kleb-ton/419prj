{
 "cells": [
  {
   "cell_type": "code",
   "execution_count": null,
   "metadata": {},
   "outputs": [],
   "source": [
    "import pandas as pd\n",
    "import json\n",
    "import numpy as np\n",
    "import os\n",
    "import matplotlib.pyplot as plt"
   ]
  },
  {
   "cell_type": "code",
   "execution_count": null,
   "metadata": {},
   "outputs": [],
   "source": [
    "# Extracts player matches from json files \n",
    "file_list = []\n",
    "\n",
    "folder_path = \"./rta_player_data\"\n",
    "files_in_folder = os.listdir(folder_path)\n",
    "\n",
    "# Filter out only files (excluding directories)\n",
    "files = [file for file in files_in_folder if os.path.isfile(os.path.join(folder_path, file))]\n",
    "\n",
    "for file in files:\n",
    "    file_list.append('./rta_player_data/' + file)\n"
   ]
  },
  {
   "cell_type": "code",
   "execution_count": null,
   "metadata": {},
   "outputs": [],
   "source": [
    "def generate_drafts(user_data):\n",
    "    battles = pd.read_json(user_data)\n",
    "    battles = dict(battles.loc[\"battle_list\"])['result_body']\n",
    "    \n",
    "    # holds all matches\n",
    "    data_match = list()\n",
    "\n",
    "    for x in range(len(battles)):\n",
    "        \n",
    "        # generic dict to store all features\n",
    "        data = dict()\n",
    "\n",
    "        # extracts hero pick order\n",
    "        my_list = battles[x]['my_deck']\n",
    "        enemy_list = battles[x]['enemy_deck']\n",
    "        hero_deck = my_list[\"hero_list\"]\n",
    "        enemy_hero_deck = enemy_list[\"hero_list\"]\n",
    "        \n",
    "        # checks for matches that do not have hero data\n",
    "        # and skips that match\n",
    "        team = battles[x]['teamBettleInfo']\n",
    "        string_data_team = '{' + team + '}'\n",
    "        data2 = json.loads(string_data_team)\n",
    "        my_team_data = data2[\"my_team\"]\n",
    "        if not my_team_data:\n",
    "            continue\n",
    "        \n",
    "        # extracts match pre bans and which side won\n",
    "        my_preban = my_list['preban_list']\n",
    "        enemy_preban = enemy_list['preban_list']\n",
    "        is_win = battles[x]['iswin']\n",
    "        \n",
    "        # extract which user has the first turn\n",
    "        is_first = 0\n",
    "        for pick in hero_deck:\n",
    "            first_pick = pick['first_pick']\n",
    "            if first_pick == 1:\n",
    "                is_first = 1\n",
    "                break\n",
    "            \n",
    "        # heroes         \n",
    "        for i in range(5):\n",
    "            \n",
    "            data['main' + str(i+1)] = hero_deck[i]['hero_code']\n",
    "            data['enemy' + str(i+1)] = enemy_hero_deck[i]['hero_code']\n",
    "            \n",
    "        # pre-bans \n",
    "        for i in range(2):\n",
    "            data['main_pre_b' + str(i+1)] = my_preban[i]\n",
    "            data['enemy_pre_b' + str(i+1)] = enemy_preban[i] \n",
    "        \n",
    "        # post-ban for main\n",
    "        for i in range(5):\n",
    "            if hero_deck[i]['ban'] == 1:\n",
    "                data['main_post_b'] = str(hero_deck[i]['hero_code'])\n",
    "        \n",
    "        # post-ban for enemy     \n",
    "        for i in range(5):\n",
    "            if enemy_hero_deck[i]['ban'] == 1:\n",
    "                data['enemy_post_b'] = str(enemy_hero_deck[i]['hero_code']) \n",
    "        \n",
    "        # adds the user with first pick and winner to the match instance    \n",
    "        data['is_first'] = is_first  \n",
    "        data['is_win'] = is_win\n",
    "        \n",
    "        data_match.append(data)\n",
    "    \n",
    "    return data_match"
   ]
  },
  {
   "cell_type": "code",
   "execution_count": null,
   "metadata": {},
   "outputs": [],
   "source": [
    "# keep track of each match\n",
    "drafts_dataset = []\n",
    "for i in range(len(file_list)):\n",
    "    res = generate_drafts(file_list[i])\n",
    "    drafts_dataset.append(res)\n",
    "\n",
    "# turns the 2d array to 1d and converts to dataframe\n",
    "collapsed_arr = [item for sublist in drafts_dataset for item in sublist]\n",
    "dataset = pd.DataFrame(collapsed_arr)\n"
   ]
  },
  {
   "cell_type": "code",
   "execution_count": null,
   "metadata": {},
   "outputs": [],
   "source": [
    "dataset"
   ]
  },
  {
   "cell_type": "code",
   "execution_count": null,
   "metadata": {},
   "outputs": [],
   "source": [
    "# sampled 50 random rows (matches)\n",
    "rows = dataset.sample(n=50)\n",
    "dataset_sample = pd.DataFrame(rows)\n",
    "dataset_sample.reset_index(drop=True, inplace=True)\n"
   ]
  },
  {
   "cell_type": "code",
   "execution_count": null,
   "metadata": {},
   "outputs": [],
   "source": [
    "# checks the user whether they have the first pick and \n",
    "# keeps track of the hero picked first by that user\n",
    "first_picked_col = []\n",
    "for index, row in dataset_sample.iterrows():\n",
    "    if row['is_first'] == 1:\n",
    "        val = row['main1']\n",
    "        first_picked_col.append(val)\n",
    "    else:\n",
    "        val = row['enemy1']\n",
    "        first_picked_col.append(val)\n",
    "        \n",
    "dataset_sample['first_picked'] = first_picked_col"
   ]
  },
  {
   "cell_type": "code",
   "execution_count": null,
   "metadata": {},
   "outputs": [],
   "source": [
    "# Plots most common first picks \n",
    "graphMostFirstPick = dataset_sample['first_picked'].value_counts()\n",
    "graphMostFirstPick.plot(kind='bar')\n",
    "plt.xlabel('Most Common First Picks')\n",
    "plt.ylabel('Instance Count')\n",
    "plt.title('Frequency of Matches with the Most First Picks')\n",
    "plt.tight_layout()\n",
    "plt.show()"
   ]
  },
  {
   "cell_type": "code",
   "execution_count": null,
   "metadata": {},
   "outputs": [],
   "source": [
    "# Specify the file name\n",
    "csv_file = 'drafts_dataset_sample.csv'\n",
    "\n",
    "# Write the concatenated DataFrame to a CSV file\n",
    "dataset_sample.to_csv(csv_file, index=False)\n",
    "\n"
   ]
  },
  {
   "cell_type": "code",
   "execution_count": null,
   "metadata": {},
   "outputs": [],
   "source": [
    "# Specify the file name\n",
    "whole_dataset_csv_file = 'drafts_dataset.csv'\n",
    "\n",
    "# Write the concatenated DataFrame to a CSV file\n",
    "dataset.to_csv(whole_dataset_csv_file, index=False)"
   ]
  },
  {
   "cell_type": "code",
   "execution_count": null,
   "metadata": {},
   "outputs": [],
   "source": [
    "first_picked_col_all = []\n",
    "for index, row in dataset.iterrows():\n",
    "    if row['is_first'] == 1:\n",
    "        val = row['main1']\n",
    "        first_picked_col_all.append(val)\n",
    "    else:\n",
    "        val = row['enemy1']\n",
    "        first_picked_col_all.append(val)\n",
    "        \n",
    "dataset['first_picked'] = first_picked_col_all"
   ]
  },
  {
   "cell_type": "code",
   "execution_count": null,
   "metadata": {},
   "outputs": [],
   "source": [
    "graphMostFirstPick = dataset['first_picked'].value_counts()\n",
    "graphMostFirstPick.plot(kind='bar')\n",
    "plt.xlabel('Most Common First Picks')\n",
    "plt.ylabel('Instance Count')\n",
    "plt.title('Frequency of Matches with the Most First Picks')\n",
    "plt.tight_layout()\n",
    "plt.show()"
   ]
  },
  {
   "cell_type": "code",
   "execution_count": 162,
   "metadata": {},
   "outputs": [],
   "source": [
    "recommended_fp = [] \n",
    "for i in range(10):\n",
    "    recommended_fp.append(dataset['first_picked'].value_counts().index[i])"
   ]
  },
  {
   "cell_type": "code",
   "execution_count": 163,
   "metadata": {},
   "outputs": [
    {
     "data": {
      "text/plain": [
       "['c1159',\n",
       " 'c2089',\n",
       " 'c2016',\n",
       " 'c1133',\n",
       " 'c2109',\n",
       " 'c2046',\n",
       " 'c6037',\n",
       " 'c4004',\n",
       " 'c2090',\n",
       " 'c2008']"
      ]
     },
     "execution_count": 163,
     "metadata": {},
     "output_type": "execute_result"
    }
   ],
   "source": [
    "\n",
    "recommended_fp"
   ]
  },
  {
   "cell_type": "code",
   "execution_count": 181,
   "metadata": {},
   "outputs": [],
   "source": [
    "def draft_response(m1, e1, m2, e2, m3, e3,\n",
    "                   m4, e4, m5, e5, mpb1, mpb2, epb1, epb2):\n",
    "    \n",
    "    # list to keep track of heroes to not recommend to draft\n",
    "    cannot_draft = []\n",
    "    response = []\n",
    "    \n",
    "    copy_recommended_fp = recommended_fp\n",
    "\n",
    "    cannot_draft.append(mpb1) \n",
    "    cannot_draft.append(mpb2)\n",
    "    cannot_draft.append(epb1)\n",
    "    cannot_draft.append(epb2)\n",
    "    \n",
    "    # Main first pick\n",
    "    # \"first pick\" placeholder for first pick \n",
    "    if m1 == \"first pick\":\n",
    "        \n",
    "        for pick in copy_recommended_fp:\n",
    "            for cannotpick in cannot_draft:\n",
    "                if pick == cannotpick:\n",
    "                    copy_recommended_fp.remove(pick) \n",
    "                    \n",
    "        # returns the next avaliable item           \n",
    "        return [copy_recommended_fp[0]]\n",
    "    \n",
    "    # main has fp\n",
    "    if m2 == _ and m3 == _:\n",
    "            \n",
    "        cannot_draft.append(m1)\n",
    "        cannot_draft.append(e1)\n",
    "        cannot_draft.append(e2)\n",
    "        \n",
    "        for index, row in dataset.iterrows():\n",
    "            \n",
    "            # enemy fp -> main 1,2 \n",
    "            # enemy 1,2,3 -> main 3,4\n",
    "            # enemy 1,2,3,4,5 -> main 5\n",
    "            \n",
    "            # m2 m3 response into e1 e2  \n",
    "                \n",
    "                if row['is_first'] == 0 and row['enemy1'] == e1 and row['enemy2'] == e2:\n",
    "                    \n",
    "                    response1 = row['main2']\n",
    "                    response2 = row['main3']\n",
    "                    response.append([response1, response2])\n",
    "                    responses_df = pd.DataFrame(response)\n",
    "                    choices = responses_df.value_counts()[:20]\n",
    "                    array = [pair for pair in choices.index] \n",
    "                    \n",
    "                    flattened_list = [item for sublist in array for item in sublist]\n",
    "                    data_singles = list(set(flattened_list))\n",
    "                    \n",
    "                    for pick in data_singles:\n",
    "                        for cannotpick in cannot_draft:\n",
    "                            if pick == cannotpick:\n",
    "                                data_singles.remove(pick)\n",
    "                                \n",
    "                    return data_singles[:2]\n",
    "    \n",
    "    if m4 == _ and m5 == _:\n",
    "            \n",
    "        cannot_draft.append(m1)\n",
    "        cannot_draft.append(e1)\n",
    "        cannot_draft.append(e2)\n",
    "        cannot_draft.append(m2)\n",
    "        cannot_draft.append(m3)\n",
    "        cannot_draft.append(e3)\n",
    "        cannot_draft.append(e4)\n",
    "        \n",
    "        for index, row in dataset.iterrows():\n",
    "            \n",
    "            # enemy fp -> main 1,2 \n",
    "            # enemy 1,2,3 -> main 3,4\n",
    "            # enemy 1,2,3,4,5 -> main 5\n",
    "            \n",
    "            # m2 m3 response into e1 e2  \n",
    "                \n",
    "            if row['is_first'] == 0 and row['enemy3'] == e3 and row['enemy4'] == e4:\n",
    "                \n",
    "                response1 = row['main4']\n",
    "                response2 = row['main5']\n",
    "                response.append([response1, response2])\n",
    "                responses_df = pd.DataFrame(response)\n",
    "                choices = responses_df.value_counts()[:20]\n",
    "                array = [pair for pair in choices.index] \n",
    "                \n",
    "                flattened_list = [item for sublist in array for item in sublist]\n",
    "                data_singles = list(set(flattened_list))\n",
    "                \n",
    "                for pick in data_singles:\n",
    "                    for cannotpick in cannot_draft:\n",
    "                        if pick == cannotpick:\n",
    "                            data_singles.remove(pick)\n",
    "                            \n",
    "                return data_singles[:2]\n",
    "    \n",
    "    \n",
    "    # enemy has fp \n",
    "    \n",
    "    if m1 == _ and m2 == _:\n",
    "            \n",
    "        cannot_draft.append(e1) \n",
    "        \n",
    "        for index, row in dataset.iterrows():\n",
    "        \n",
    "            # input e1\n",
    "            # returns m1 m2\n",
    "            if row['is_first'] == 0 and row['enemy1'] == e1:\n",
    "                response1 = row['main1']\n",
    "                response2 = row['main2']\n",
    "                response.append([response1, response2])\n",
    "                responses_df = pd.DataFrame(response)\n",
    "                choices = responses_df.value_counts()[:20]\n",
    "                array = [pair for pair in choices.index] \n",
    "                flattened_list = [item for sublist in array for item in sublist]\n",
    "                data_singles = list(set(flattened_list))\n",
    "                \n",
    "                for pick in data_singles:\n",
    "                    for cannotpick in cannot_draft:\n",
    "                        if pick == cannotpick:\n",
    "                            data_singles.remove(pick)\n",
    "                            \n",
    "                return data_singles[:2]\n",
    "        \n",
    "    if m3 == _ and m4 == _:    \n",
    "            \n",
    "        cannot_draft.append(e1) \n",
    "        cannot_draft.append(e2) \n",
    "        cannot_draft.append(e3)\n",
    "        cannot_draft.append(m1) \n",
    "        cannot_draft.append(m2)  \n",
    "        \n",
    "        for index, row in dataset.iterrows():\n",
    "            # input e1, e2, e3\n",
    "            # returns m3 m4\n",
    "            if row['is_first'] == 0 and row['enemy2'] == e2 and row['enemy3'] == e3:\n",
    "                response1 = row['main3']\n",
    "                response2 = row['main4']\n",
    "                response.append([response1, response2])\n",
    "                responses_df = pd.DataFrame(response)\n",
    "                choices = responses_df.value_counts()[:20]\n",
    "                array = [pair for pair in choices.index] \n",
    "                flattened_list = [item for sublist in array for item in sublist]\n",
    "                data_singles = list(set(flattened_list))\n",
    "                \n",
    "                for pick in data_singles:\n",
    "                    for cannotpick in cannot_draft:\n",
    "                        # if any of the picks are in the recommended, then\n",
    "                        if pick == cannotpick:\n",
    "                            data_singles.remove(pick)\n",
    "                            \n",
    "                return data_singles[:2]\n",
    "            \n",
    "    if m5 == _:    \n",
    "        cannot_draft.append(e1) \n",
    "        cannot_draft.append(e2) \n",
    "        cannot_draft.append(e3)\n",
    "        cannot_draft.append(e4)\n",
    "        cannot_draft.append(e5)\n",
    "        cannot_draft.append(m1) \n",
    "        cannot_draft.append(m2) \n",
    "        cannot_draft.append(m3) \n",
    "        cannot_draft.append(m4)\n",
    "        for index, row in dataset.iterrows():       \n",
    "            # input e1, e2, e3, e4, e5\n",
    "            # returns m5\n",
    "            if row['is_first'] == 0 and  row['enemy4'] == e4 and row['enemy5'] == e5:\n",
    "                response1 = row['main5']\n",
    "                response.append([response1])\n",
    "                responses_df = pd.DataFrame(response)\n",
    "                choices = responses_df.value_counts()[:20]\n",
    "                array = [pair for pair in choices.index] \n",
    "                flattened_list = [item for sublist in array for item in sublist]\n",
    "                data_singles = list(set(flattened_list))\n",
    "                \n",
    "                for pick in data_singles:\n",
    "                    for cannotpick in cannot_draft:\n",
    "                        if pick == cannotpick:\n",
    "                            data_singles.remove(pick)\n",
    "                            \n",
    "                return data_singles[:1]            \n",
    "                \n",
    "        else:\n",
    "            # only suggests for main \n",
    "            output = \"Invalid Input\"\n",
    "            \n",
    "    return output\n",
    "        \n"
   ]
  },
  {
   "cell_type": "code",
   "execution_count": 180,
   "metadata": {},
   "outputs": [
    {
     "data": {
      "text/plain": [
       "['c2016']"
      ]
     },
     "execution_count": 180,
     "metadata": {},
     "output_type": "execute_result"
    }
   ],
   "source": [
    "first_pick_main = \"first pick\"\n",
    "\n",
    "# idea to take in a dynamic list?\n",
    "# order m1, e1, m2, e2, m3, e3, m4, e4, m5, e5,\n",
    "\n",
    "# test case pre ban Laia, Carmin, Clilias, Candy\n",
    "\n",
    "# input \"fp\"\n",
    "# returns m1 \n",
    "draft_response(\"first pick\", _, _, _, _, \n",
    "               _, _, _, _, _,\"c1159\", \"c2008\", \"c2089\", \"c2109\")"
   ]
  },
  {
   "cell_type": "code",
   "execution_count": 177,
   "metadata": {},
   "outputs": [
    {
     "data": {
      "text/plain": [
       "['c1116']"
      ]
     },
     "execution_count": 177,
     "metadata": {},
     "output_type": "execute_result"
    }
   ],
   "source": [
    "# input m1, e1, e2 ()\n",
    "# returns m2 m3\n",
    "draft_response(\"c2016\", \"c4144\", _, \"c2022\", _, \n",
    "               _, _, _, _, _,\"c1159\", \"c2008\", \"c2089\", \"c2109\")"
   ]
  },
  {
   "cell_type": "code",
   "execution_count": 72,
   "metadata": {},
   "outputs": [],
   "source": [
    "# input m1,e1 e2, m2, m3, e4, e5\n",
    "# returns m4, m5\n",
    "# draft_response(\"c2016\", \"c4144\", _, \"c2022\", _, \n",
    "#                _, _, _, _, _,\"c1159\", \"c2008\", \"c2089\", \"c2109\")"
   ]
  },
  {
   "cell_type": "code",
   "execution_count": 178,
   "metadata": {},
   "outputs": [
    {
     "data": {
      "text/plain": [
       "['c4144', 'c2022']"
      ]
     },
     "execution_count": 178,
     "metadata": {},
     "output_type": "execute_result"
    }
   ],
   "source": [
    "# test case pre ban Laia, Carmin, Clilias, Candy\n",
    "# enemy fp ayufine\n",
    "draft_response(_,\"c2016\", _, _, _, \n",
    "               _, _, _, _, _,\"c1159\", \"c2008\", \"c2089\", \"c2109\")"
   ]
  },
  {
   "cell_type": "code",
   "execution_count": 136,
   "metadata": {},
   "outputs": [
    {
     "data": {
      "text/plain": [
       "['c1091', 'c1151']"
      ]
     },
     "execution_count": 136,
     "metadata": {},
     "output_type": "execute_result"
    }
   ],
   "source": [
    "# test case pre ban Laia, Carmin, Clilias, Candy\n",
    "# enemy fp ayufine, e2, e3\n",
    "# main picks m1, m2\n",
    "# returns m3, m4\n",
    "draft_response(\"c4144\",\"c2016\", \"c2022\", \"c1133\", _, \n",
    "               \"c1118\", _, _, _, _,\n",
    "               \"c1159\", \"c2008\", \"c2089\", \"c2109\")"
   ]
  },
  {
   "cell_type": "code",
   "execution_count": 137,
   "metadata": {},
   "outputs": [
    {
     "data": {
      "text/plain": [
       "['c2020']"
      ]
     },
     "execution_count": 137,
     "metadata": {},
     "output_type": "execute_result"
    }
   ],
   "source": [
    "# enemy 1-5\n",
    "# main adin, destina, elena, ran\n",
    "# enemy yufine, zio, nahkwol, cidd, jacko \n",
    "# returns m5\n",
    "draft_response(\"c4144\",\"c2016\", \"c2022\", \"c1133\", \"c1091\", \n",
    "               \"c1118\", \"c1151\", \"c1014\", _, \"c1130\",\n",
    "               \"c1159\", \"c2008\", \"c2089\", \"c2109\")"
   ]
  },
  {
   "cell_type": "code",
   "execution_count": 176,
   "metadata": {},
   "outputs": [
    {
     "data": {
      "text/plain": [
       "['c5089', 'c2046']"
      ]
     },
     "execution_count": 176,
     "metadata": {},
     "output_type": "execute_result"
    }
   ],
   "source": [
    "draft_response(\"c1159\", \"c2016\", \"c2109\", \"c4004\", \"c2008\", \n",
    "               \"c2022\", _, \"c2071\", _, _,\"c1151\", \"c2089\", \"c2089\", \"c1133\")"
   ]
  }
 ],
 "metadata": {
  "kernelspec": {
   "display_name": "Python 3",
   "language": "python",
   "name": "python3"
  },
  "language_info": {
   "codemirror_mode": {
    "name": "ipython",
    "version": 3
   },
   "file_extension": ".py",
   "mimetype": "text/x-python",
   "name": "python",
   "nbconvert_exporter": "python",
   "pygments_lexer": "ipython3",
   "version": "3.11.7"
  }
 },
 "nbformat": 4,
 "nbformat_minor": 2
}
