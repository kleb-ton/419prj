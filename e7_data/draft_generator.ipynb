{
 "cells": [
  {
   "cell_type": "code",
   "execution_count": 2,
   "metadata": {},
   "outputs": [],
   "source": [
    "import pandas as pd\n",
    "import json"
   ]
  },
  {
   "cell_type": "code",
   "execution_count": 3,
   "metadata": {},
   "outputs": [],
   "source": [
    "\n",
    "battles = pd.read_json('63471324.json')\n",
    "battles = dict(battles.loc[\"battle_list\"])['result_body']"
   ]
  },
  {
   "cell_type": "code",
   "execution_count": 5,
   "metadata": {},
   "outputs": [
    {
     "data": {
      "text/plain": [
       "100"
      ]
     },
     "execution_count": 5,
     "metadata": {},
     "output_type": "execute_result"
    }
   ],
   "source": [
    "len(battles)"
   ]
  },
  {
   "cell_type": "code",
   "execution_count": 6,
   "metadata": {},
   "outputs": [],
   "source": [
    "battle_data = []\n",
    "\n",
    "for x in range(len(battles)):\n",
    "    battle_data.append(battles[x]['teamBettleInfo'])\n",
    "    battle_data.append(battles[x]['teamBettleInfoenemy'])\n",
    "    battle_data.append(battles[x]['my_deck'])\n",
    "    battle_data.append(battles[x]['enemy_deck'])\n",
    "    # battle_data.append(battles[x]['iswin'])\n"
   ]
  },
  {
   "cell_type": "code",
   "execution_count": 7,
   "metadata": {},
   "outputs": [
    {
     "data": {
      "text/plain": [
       "'\"my_team\":[{\"pick_order\" :1,\"hero_code\":\"c6037\",\"attack_damage\":271,\"receive_damage\":50356.93,\"recovery\":21525,\"mvp_point\":500266,\"artifact\":\"efh12\",\"equip\":[\"set_immune\",\"set_speed\"],\"respawn\":0,\"mvp\":1,\"kill_count\":0,\"position\":3,\"grade\":6,\"awaken_grade\":6,\"attribute_cd\":\"light\",\"level\":60,\"job_cd\":\"manauser\"},{\"pick_order\" :2,\"hero_code\":\"c1159\",\"attack_damage\":1119,\"receive_damage\":93121.8,\"recovery\":0,\"mvp_point\":129916,\"artifact\":\"efw35\",\"equip\":[\"set_max_hp\",\"set_speed\"],\"respawn\":0,\"mvp\":0,\"kill_count\":0,\"position\":2,\"grade\":6,\"awaken_grade\":6,\"attribute_cd\":\"wind\",\"level\":60,\"job_cd\":\"warrior\"},{\"pick_order\" :3,\"hero_code\":\"c2070\",\"attack_damage\":14995,\"receive_damage\":59378.92,\"recovery\":27939,\"mvp_point\":280694,\"artifact\":\"efk04\",\"equip\":[\"set_speed\",\"set_max_hp\"],\"respawn\":0,\"mvp\":0,\"kill_count\":0,\"position\":1,\"grade\":6,\"awaken_grade\":6,\"attribute_cd\":\"light\",\"level\":60,\"job_cd\":\"knight\"},{\"pick_order\" :4,\"hero_code\":\"c2071\",\"attack_damage\":57510,\"receive_damage\":107691.89,\"recovery\":12042,\"mvp_point\":195081,\"artifact\":\"efw01\",\"equip\":[\"set_counter\",\"set_penetrate\"],\"respawn\":0,\"mvp\":0,\"kill_count\":0,\"position\":4,\"grade\":6,\"awaken_grade\":6,\"attribute_cd\":\"dark\",\"level\":60,\"job_cd\":\"warrior\"},{\"pick_order\" :5,\"hero_code\":\"c2024\",\"attack_damage\":0,\"receive_damage\":0.0,\"recovery\":0,\"mvp_point\":0,\"artifact\":\"\",\"equip\":[],\"respawn\":0,\"mvp\":0,\"kill_count\":0,\"position\":0,\"grade\":6,\"awaken_grade\":6,\"attribute_cd\":\"dark\",\"level\":60,\"job_cd\":\"ranger\"}]'"
      ]
     },
     "execution_count": 7,
     "metadata": {},
     "output_type": "execute_result"
    }
   ],
   "source": [
    "battle_data[5]"
   ]
  },
  {
   "cell_type": "code",
   "execution_count": 8,
   "metadata": {},
   "outputs": [
    {
     "data": {
      "text/plain": [
       "100"
      ]
     },
     "execution_count": 8,
     "metadata": {},
     "output_type": "execute_result"
    }
   ],
   "source": [
    "len(battles)"
   ]
  },
  {
   "cell_type": "code",
   "execution_count": 9,
   "metadata": {},
   "outputs": [],
   "source": [
    "def drafts(team_1, team_2, deck_1, deck_2):\n",
    "    \n",
    "    data = json.loads(team_1)\n",
    "    my_team_data = data[\"my_team\"]\n",
    "    df_team = pd.DataFrame(my_team_data)\n",
    "    df_team = df_team.drop(['artifact', 'respawn', 'mvp', 'kill_count', 'position', 'grade', 'awaken_grade', 'attribute_cd', 'level', 'job_cd'], axis=1)\n",
    "    \n",
    "    data = json.loads(team_2)\n",
    "    my_team_data_enemy = data[\"my_team\"]\n",
    "    df_enemy_team = pd.DataFrame(my_team_data_enemy)\n",
    "    df_enemy_team = df_enemy_team.drop(['artifact', 'respawn', 'mvp', 'kill_count', 'position', 'grade', 'awaken_grade', 'attribute_cd', 'level', 'job_cd'], axis=1)\n",
    "        \n",
    "    my_hero_list = json.dumps(deck_1)\n",
    "    data_dict = json.loads(my_hero_list)\n",
    "    df_hero_list = pd.DataFrame(data_dict['hero_list'])\n",
    "    \n",
    "    enemy_hero_list = json.dumps(deck_2)\n",
    "    data_dict = json.loads(enemy_hero_list)\n",
    "    df_enemy_hero_list = pd.DataFrame(data_dict['hero_list'])\n",
    "    \n",
    "    # takes both side drafts into one data entry \n",
    "    result = pd.merge(df_team, df_hero_list)\n",
    "    result2 = pd.merge(df_enemy_team, df_enemy_hero_list)\n",
    "    draft = pd.concat([result, result2], ignore_index=True,axis=0)\n",
    "    \n",
    "    return draft "
   ]
  },
  {
   "cell_type": "code",
   "execution_count": 10,
   "metadata": {},
   "outputs": [],
   "source": [
    "# stores all generated drafts\n",
    "drafts_list = []\n",
    "\n",
    "# generate draft data \n",
    "i = 0\n",
    "while i < len(battles)*4:\n",
    "    string_data_team = '{' + battle_data[i] + '}'\n",
    "    string_data_enemy = '{' + battle_data[i+1] + '}'\n",
    "    string_data_my_deck = battle_data[i+2] \n",
    "    string_data_enemy_deck = battle_data[i+3]\n",
    "    res = drafts(string_data_team, string_data_enemy , string_data_my_deck, string_data_enemy_deck)\n",
    "    drafts_list.append(res)\n",
    "    i += 4\n",
    "                                                                  "
   ]
  },
  {
   "cell_type": "code",
   "execution_count": 11,
   "metadata": {},
   "outputs": [
    {
     "data": {
      "text/html": [
       "<div>\n",
       "<style scoped>\n",
       "    .dataframe tbody tr th:only-of-type {\n",
       "        vertical-align: middle;\n",
       "    }\n",
       "\n",
       "    .dataframe tbody tr th {\n",
       "        vertical-align: top;\n",
       "    }\n",
       "\n",
       "    .dataframe thead th {\n",
       "        text-align: right;\n",
       "    }\n",
       "</style>\n",
       "<table border=\"1\" class=\"dataframe\">\n",
       "  <thead>\n",
       "    <tr style=\"text-align: right;\">\n",
       "      <th></th>\n",
       "      <th>pick_order</th>\n",
       "      <th>hero_code</th>\n",
       "      <th>attack_damage</th>\n",
       "      <th>receive_damage</th>\n",
       "      <th>recovery</th>\n",
       "      <th>mvp_point</th>\n",
       "      <th>equip</th>\n",
       "      <th>first_pick</th>\n",
       "      <th>mvp</th>\n",
       "      <th>ban</th>\n",
       "    </tr>\n",
       "  </thead>\n",
       "  <tbody>\n",
       "    <tr>\n",
       "      <th>0</th>\n",
       "      <td>1</td>\n",
       "      <td>c2089</td>\n",
       "      <td>881</td>\n",
       "      <td>4347.33</td>\n",
       "      <td>0</td>\n",
       "      <td>57411</td>\n",
       "      <td>[set_speed]</td>\n",
       "      <td>1</td>\n",
       "      <td>0</td>\n",
       "      <td>0</td>\n",
       "    </tr>\n",
       "    <tr>\n",
       "      <th>1</th>\n",
       "      <td>2</td>\n",
       "      <td>c2109</td>\n",
       "      <td>39472</td>\n",
       "      <td>0.00</td>\n",
       "      <td>0</td>\n",
       "      <td>77159</td>\n",
       "      <td>[set_counter, set_max_hp]</td>\n",
       "      <td>0</td>\n",
       "      <td>1</td>\n",
       "      <td>0</td>\n",
       "    </tr>\n",
       "    <tr>\n",
       "      <th>2</th>\n",
       "      <td>3</td>\n",
       "      <td>c4004</td>\n",
       "      <td>0</td>\n",
       "      <td>0.00</td>\n",
       "      <td>11178</td>\n",
       "      <td>34370</td>\n",
       "      <td>[set_def, set_max_hp, set_max_hp]</td>\n",
       "      <td>0</td>\n",
       "      <td>0</td>\n",
       "      <td>0</td>\n",
       "    </tr>\n",
       "    <tr>\n",
       "      <th>3</th>\n",
       "      <td>4</td>\n",
       "      <td>c5089</td>\n",
       "      <td>0</td>\n",
       "      <td>0.00</td>\n",
       "      <td>0</td>\n",
       "      <td>0</td>\n",
       "      <td>[]</td>\n",
       "      <td>0</td>\n",
       "      <td>0</td>\n",
       "      <td>1</td>\n",
       "    </tr>\n",
       "    <tr>\n",
       "      <th>4</th>\n",
       "      <td>5</td>\n",
       "      <td>c1102</td>\n",
       "      <td>736</td>\n",
       "      <td>0.00</td>\n",
       "      <td>1366</td>\n",
       "      <td>25295</td>\n",
       "      <td>[set_immune, set_shield]</td>\n",
       "      <td>0</td>\n",
       "      <td>0</td>\n",
       "      <td>0</td>\n",
       "    </tr>\n",
       "    <tr>\n",
       "      <th>5</th>\n",
       "      <td>1</td>\n",
       "      <td>c1126</td>\n",
       "      <td>0</td>\n",
       "      <td>26148.79</td>\n",
       "      <td>0</td>\n",
       "      <td>26148</td>\n",
       "      <td>[set_speed]</td>\n",
       "      <td>0</td>\n",
       "      <td>0</td>\n",
       "      <td>0</td>\n",
       "    </tr>\n",
       "    <tr>\n",
       "      <th>6</th>\n",
       "      <td>2</td>\n",
       "      <td>c1159</td>\n",
       "      <td>0</td>\n",
       "      <td>80834.08</td>\n",
       "      <td>0</td>\n",
       "      <td>80834</td>\n",
       "      <td>[set_speed]</td>\n",
       "      <td>0</td>\n",
       "      <td>0</td>\n",
       "      <td>0</td>\n",
       "    </tr>\n",
       "    <tr>\n",
       "      <th>7</th>\n",
       "      <td>3</td>\n",
       "      <td>c2070</td>\n",
       "      <td>0</td>\n",
       "      <td>5618.43</td>\n",
       "      <td>36184</td>\n",
       "      <td>105217</td>\n",
       "      <td>[set_speed, set_max_hp]</td>\n",
       "      <td>0</td>\n",
       "      <td>1</td>\n",
       "      <td>0</td>\n",
       "    </tr>\n",
       "    <tr>\n",
       "      <th>8</th>\n",
       "      <td>4</td>\n",
       "      <td>c2071</td>\n",
       "      <td>1139</td>\n",
       "      <td>8614.00</td>\n",
       "      <td>0</td>\n",
       "      <td>9752</td>\n",
       "      <td>[set_cri_dmg, set_def]</td>\n",
       "      <td>0</td>\n",
       "      <td>0</td>\n",
       "      <td>0</td>\n",
       "    </tr>\n",
       "    <tr>\n",
       "      <th>9</th>\n",
       "      <td>5</td>\n",
       "      <td>c1151</td>\n",
       "      <td>0</td>\n",
       "      <td>0.00</td>\n",
       "      <td>0</td>\n",
       "      <td>0</td>\n",
       "      <td>[]</td>\n",
       "      <td>0</td>\n",
       "      <td>0</td>\n",
       "      <td>1</td>\n",
       "    </tr>\n",
       "  </tbody>\n",
       "</table>\n",
       "</div>"
      ],
      "text/plain": [
       "   pick_order hero_code  attack_damage  receive_damage  recovery  mvp_point  \\\n",
       "0           1     c2089            881         4347.33         0      57411   \n",
       "1           2     c2109          39472            0.00         0      77159   \n",
       "2           3     c4004              0            0.00     11178      34370   \n",
       "3           4     c5089              0            0.00         0          0   \n",
       "4           5     c1102            736            0.00      1366      25295   \n",
       "5           1     c1126              0        26148.79         0      26148   \n",
       "6           2     c1159              0        80834.08         0      80834   \n",
       "7           3     c2070              0         5618.43     36184     105217   \n",
       "8           4     c2071           1139         8614.00         0       9752   \n",
       "9           5     c1151              0            0.00         0          0   \n",
       "\n",
       "                               equip  first_pick  mvp  ban  \n",
       "0                        [set_speed]           1    0    0  \n",
       "1          [set_counter, set_max_hp]           0    1    0  \n",
       "2  [set_def, set_max_hp, set_max_hp]           0    0    0  \n",
       "3                                 []           0    0    1  \n",
       "4           [set_immune, set_shield]           0    0    0  \n",
       "5                        [set_speed]           0    0    0  \n",
       "6                        [set_speed]           0    0    0  \n",
       "7            [set_speed, set_max_hp]           0    1    0  \n",
       "8             [set_cri_dmg, set_def]           0    0    0  \n",
       "9                                 []           0    0    1  "
      ]
     },
     "execution_count": 11,
     "metadata": {},
     "output_type": "execute_result"
    }
   ],
   "source": [
    "drafts_list[30]"
   ]
  },
  {
   "cell_type": "code",
   "execution_count": 12,
   "metadata": {},
   "outputs": [],
   "source": [
    "# 100 drafts to csv file\n",
    "pd.concat(drafts_list).to_csv('drafts.csv')"
   ]
  }
 ],
 "metadata": {
  "kernelspec": {
   "display_name": "Python 3",
   "language": "python",
   "name": "python3"
  },
  "language_info": {
   "codemirror_mode": {
    "name": "ipython",
    "version": 3
   },
   "file_extension": ".py",
   "mimetype": "text/x-python",
   "name": "python",
   "nbconvert_exporter": "python",
   "pygments_lexer": "ipython3",
   "version": "3.11.7"
  }
 },
 "nbformat": 4,
 "nbformat_minor": 2
}
