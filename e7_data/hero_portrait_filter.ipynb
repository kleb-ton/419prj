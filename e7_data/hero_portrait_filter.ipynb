{
 "cells": [
  {
   "cell_type": "code",
   "execution_count": 53,
   "metadata": {},
   "outputs": [],
   "source": [
    "import os\n",
    "import shutil\n",
    "import glob\n",
    "import re"
   ]
  },
  {
   "cell_type": "code",
   "execution_count": 54,
   "metadata": {},
   "outputs": [],
   "source": [
    "# folder path\n",
    "folder_path = './cachedimages'"
   ]
  },
  {
   "cell_type": "code",
   "execution_count": 55,
   "metadata": {},
   "outputs": [],
   "source": [
    "\n",
    "# Iterate through the files with c_something_s\n",
    "for path in glob.glob(\"cachedimages/c*_s.png\"):\n",
    "        \n",
    "    if os.path.isfile(path):\n",
    "        shutil.move(path, \"./e7_portraits\")"
   ]
  },
  {
   "cell_type": "code",
   "execution_count": 56,
   "metadata": {},
   "outputs": [],
   "source": [
    "# moved all portraits that didn't start with c_something_s but had Portrait\n",
    "for path in glob.glob(\"cachedimages/*Portrait.png\"):\n",
    "        \n",
    "    if os.path.isfile(path):\n",
    "        shutil.move(path, \"./e7_portraits\")"
   ]
  }
 ],
 "metadata": {
  "kernelspec": {
   "display_name": "Python 3",
   "language": "python",
   "name": "python3"
  },
  "language_info": {
   "codemirror_mode": {
    "name": "ipython",
    "version": 3
   },
   "file_extension": ".py",
   "mimetype": "text/x-python",
   "name": "python",
   "nbconvert_exporter": "python",
   "pygments_lexer": "ipython3",
   "version": "3.11.7"
  }
 },
 "nbformat": 4,
 "nbformat_minor": 2
}
